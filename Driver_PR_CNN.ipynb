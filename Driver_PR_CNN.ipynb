{
  "nbformat": 4,
  "nbformat_minor": 0,
  "metadata": {
    "accelerator": "GPU",
    "colab": {
      "name": "Driver_PR_CNN.ipynb",
      "provenance": [],
      "collapsed_sections": [
        "CC_fQ9uoUqaw",
        "t15A0vRIUxHY",
        "fAXfR-DZVMPg",
        "CUKKIhl2VQr0",
        "FAFovjWUV0CN",
        "pMubnM12V2-j"
      ]
    },
    "kernelspec": {
      "display_name": "Python 3",
      "name": "python3"
    },
    "language_info": {
      "name": "python"
    }
  },
  "cells": [
    {
      "cell_type": "code",
      "metadata": {
        "id": "tfP6iey4cqLP"
      },
      "source": [
        "import os\n",
        "import json\n",
        "import shutil\n",
        "import pandas as pd\n",
        "import pickle\n",
        "import numpy as np\n",
        "import seaborn as sns\n",
        "from tensorflow import keras\n",
        "from sklearn.datasets import load_files\n",
        "from keras.utils import np_utils\n",
        "import matplotlib.pyplot as plt\n",
        "from keras.layers import Conv2D, MaxPooling2D, GlobalAveragePooling2D\n",
        "from keras.layers import Dropout, Flatten, Dense\n",
        "from keras.models import Sequential\n",
        "from keras.utils.vis_utils import plot_model\n",
        "from keras.callbacks import ModelCheckpoint\n",
        "from tensorflow.keras.utils import to_categorical\n",
        "from sklearn.metrics import confusion_matrix\n",
        "from keras.preprocessing import image                  \n",
        "from tqdm import tqdm\n",
        "import seaborn as sns\n",
        "from sklearn.metrics import accuracy_score,precision_score,recall_score,f1_score\n",
        "\n",
        "%matplotlib inline"
      ],
      "execution_count": null,
      "outputs": []
    },
    {
      "cell_type": "markdown",
      "metadata": {
        "id": "Hx8GAq__XtjI"
      },
      "source": [
        "#Checking GPU"
      ]
    },
    {
      "cell_type": "code",
      "metadata": {
        "colab": {
          "base_uri": "https://localhost:8080/"
        },
        "id": "TBPo8QywRsJQ",
        "outputId": "b38c4361-a986-46a5-ec1a-51e5945d5087"
      },
      "source": [
        "!nvidia-smi"
      ],
      "execution_count": null,
      "outputs": [
        {
          "output_type": "stream",
          "name": "stdout",
          "text": [
            "Mon Apr 25 18:05:50 2022       \n",
            "+-----------------------------------------------------------------------------+\n",
            "| NVIDIA-SMI 460.32.03    Driver Version: 460.32.03    CUDA Version: 11.2     |\n",
            "|-------------------------------+----------------------+----------------------+\n",
            "| GPU  Name        Persistence-M| Bus-Id        Disp.A | Volatile Uncorr. ECC |\n",
            "| Fan  Temp  Perf  Pwr:Usage/Cap|         Memory-Usage | GPU-Util  Compute M. |\n",
            "|                               |                      |               MIG M. |\n",
            "|===============================+======================+======================|\n",
            "|   0  Tesla K80           Off  | 00000000:00:04.0 Off |                    0 |\n",
            "| N/A   39C    P8    27W / 149W |      0MiB / 11441MiB |      0%      Default |\n",
            "|                               |                      |                  N/A |\n",
            "+-------------------------------+----------------------+----------------------+\n",
            "                                                                               \n",
            "+-----------------------------------------------------------------------------+\n",
            "| Processes:                                                                  |\n",
            "|  GPU   GI   CI        PID   Type   Process name                  GPU Memory |\n",
            "|        ID   ID                                                   Usage      |\n",
            "|=============================================================================|\n",
            "|  No running processes found                                                 |\n",
            "+-----------------------------------------------------------------------------+\n"
          ]
        }
      ]
    },
    {
      "cell_type": "markdown",
      "metadata": {
        "id": "s7I1c4jtTq9t"
      },
      "source": [
        "#Loading Dataset onto local environment"
      ]
    },
    {
      "cell_type": "code",
      "metadata": {
        "id": "K_Oda0-AfTbP"
      },
      "source": [
        "!unzip -qq /content/drive/MyDrive/Workspace/imgs/Train.zip"
      ],
      "execution_count": null,
      "outputs": []
    },
    {
      "cell_type": "code",
      "metadata": {
        "id": "z0N05joZtaEl"
      },
      "source": [
        "!unzip -qq /content/drive/MyDrive/Workspace/imgs/test.zip"
      ],
      "execution_count": null,
      "outputs": []
    },
    {
      "cell_type": "markdown",
      "metadata": {
        "id": "S6ELGJUtT49M"
      },
      "source": [
        "#Creating workspace"
      ]
    },
    {
      "cell_type": "code",
      "metadata": {
        "id": "bB4UEAhhGd0n"
      },
      "source": [
        "TRAIN_DIR = \"/content/train\"\n",
        "MODEL_PATH = \"/content/model/self_trained\"\n",
        "PICKLE_DIR = \"/content/pickle_files\"\n",
        "CSV_DIR = \"/content/csvs\"\n",
        "TEST_DIR = \"/content/test\"\n",
        "PREDICT_DIR = \"/content/preds\"\n",
        "JSON_DIR = \"/content/json\""
      ],
      "execution_count": null,
      "outputs": []
    },
    {
      "cell_type": "code",
      "metadata": {
        "id": "cSWBt0nWGeVR"
      },
      "source": [
        "if not os.path.exists(TEST_DIR):\n",
        "    print(\"Testing data does not exists\")\n",
        "if not os.path.exists(TRAIN_DIR):\n",
        "    print(\"Training data does not exists\")\n",
        "if not os.path.exists(MODEL_PATH):\n",
        "    os.makedirs(MODEL_PATH)\n",
        "if not os.path.exists(PICKLE_DIR):\n",
        "    os.makedirs(PICKLE_DIR)\n",
        "if not os.path.exists(CSV_DIR):\n",
        "    os.makedirs(CSV_DIR)\n",
        "if not os.path.exists(PREDICT_DIR):\n",
        "    os.makedirs(PREDICT_DIR)\n",
        "else:\n",
        "    shutil.rmtree(PREDICT_DIR)\n",
        "    os.makedirs(PREDICT_DIR)\n",
        "if not os.path.exists(JSON_DIR):\n",
        "    os.makedirs(JSON_DIR)"
      ],
      "execution_count": null,
      "outputs": []
    },
    {
      "cell_type": "markdown",
      "metadata": {
        "id": "TLKA0R_MUACP"
      },
      "source": [
        "#Reading the data"
      ]
    },
    {
      "cell_type": "code",
      "metadata": {
        "id": "RhyaBpTLGgbQ"
      },
      "source": [
        "def create_csv(DATA_DIR,filename):\n",
        "    class_names = os.listdir(DATA_DIR)\n",
        "    data = list()\n",
        "    if(os.path.isdir(os.path.join(DATA_DIR,class_names[0]))):\n",
        "        for class_name in class_names:\n",
        "            file_names = os.listdir(os.path.join(DATA_DIR,class_name))\n",
        "            for file in file_names:\n",
        "                data.append({\n",
        "                    \"Filename\":os.path.join(DATA_DIR,class_name,file),\n",
        "                    \"ClassName\":class_name\n",
        "                })\n",
        "    else:\n",
        "        class_name = \"test\"\n",
        "        file_names = os.listdir(DATA_DIR)\n",
        "        for file in file_names:\n",
        "            data.append(({\n",
        "                \"FileName\":os.path.join(DATA_DIR,file),\n",
        "                \"ClassName\":class_name\n",
        "            }))\n",
        "    data = pd.DataFrame(data)\n",
        "    data.to_csv(os.path.join(os.getcwd(),\"csvs\",filename),index=False)\n",
        "\n",
        "create_csv(TRAIN_DIR,\"train.csv\")\n",
        "create_csv(TEST_DIR,\"test.csv\")\n",
        "data_train = pd.read_csv(os.path.join(os.getcwd(),\"csvs\",\"train.csv\"))\n",
        "data_test = pd.read_csv(os.path.join(os.getcwd(),\"csvs\",\"test.csv\"))"
      ],
      "execution_count": null,
      "outputs": []
    },
    {
      "cell_type": "code",
      "metadata": {
        "colab": {
          "base_uri": "https://localhost:8080/"
        },
        "id": "22RWKnb7Gh-0",
        "outputId": "58c42994-2b28-4e6c-da02-2e835dba5037"
      },
      "source": [
        "data_train['ClassName'].value_counts()"
      ],
      "execution_count": null,
      "outputs": [
        {
          "output_type": "execute_result",
          "data": {
            "text/plain": [
              "c0    2489\n",
              "c3    2346\n",
              "c4    2326\n",
              "c6    2325\n",
              "c2    2317\n",
              "c5    2312\n",
              "c1    2267\n",
              "c9    2129\n",
              "c7    2002\n",
              "c8    1911\n",
              "Name: ClassName, dtype: int64"
            ]
          },
          "metadata": {},
          "execution_count": 8
        }
      ]
    },
    {
      "cell_type": "code",
      "metadata": {
        "colab": {
          "base_uri": "https://localhost:8080/",
          "height": 174
        },
        "id": "lFv_fcS7GkOW",
        "outputId": "347e8051-e058-4cb9-ab3c-1099f4bebf11"
      },
      "source": [
        "data_train.describe()"
      ],
      "execution_count": null,
      "outputs": [
        {
          "output_type": "execute_result",
          "data": {
            "text/plain": [
              "                               Filename ClassName\n",
              "count                             22424     22424\n",
              "unique                            22424        10\n",
              "top     /content/train/c6/img_89295.jpg        c0\n",
              "freq                                  1      2489"
            ],
            "text/html": [
              "\n",
              "  <div id=\"df-ab363585-50c2-48c0-b818-aca5110e898f\">\n",
              "    <div class=\"colab-df-container\">\n",
              "      <div>\n",
              "<style scoped>\n",
              "    .dataframe tbody tr th:only-of-type {\n",
              "        vertical-align: middle;\n",
              "    }\n",
              "\n",
              "    .dataframe tbody tr th {\n",
              "        vertical-align: top;\n",
              "    }\n",
              "\n",
              "    .dataframe thead th {\n",
              "        text-align: right;\n",
              "    }\n",
              "</style>\n",
              "<table border=\"1\" class=\"dataframe\">\n",
              "  <thead>\n",
              "    <tr style=\"text-align: right;\">\n",
              "      <th></th>\n",
              "      <th>Filename</th>\n",
              "      <th>ClassName</th>\n",
              "    </tr>\n",
              "  </thead>\n",
              "  <tbody>\n",
              "    <tr>\n",
              "      <th>count</th>\n",
              "      <td>22424</td>\n",
              "      <td>22424</td>\n",
              "    </tr>\n",
              "    <tr>\n",
              "      <th>unique</th>\n",
              "      <td>22424</td>\n",
              "      <td>10</td>\n",
              "    </tr>\n",
              "    <tr>\n",
              "      <th>top</th>\n",
              "      <td>/content/train/c6/img_89295.jpg</td>\n",
              "      <td>c0</td>\n",
              "    </tr>\n",
              "    <tr>\n",
              "      <th>freq</th>\n",
              "      <td>1</td>\n",
              "      <td>2489</td>\n",
              "    </tr>\n",
              "  </tbody>\n",
              "</table>\n",
              "</div>\n",
              "      <button class=\"colab-df-convert\" onclick=\"convertToInteractive('df-ab363585-50c2-48c0-b818-aca5110e898f')\"\n",
              "              title=\"Convert this dataframe to an interactive table.\"\n",
              "              style=\"display:none;\">\n",
              "        \n",
              "  <svg xmlns=\"http://www.w3.org/2000/svg\" height=\"24px\"viewBox=\"0 0 24 24\"\n",
              "       width=\"24px\">\n",
              "    <path d=\"M0 0h24v24H0V0z\" fill=\"none\"/>\n",
              "    <path d=\"M18.56 5.44l.94 2.06.94-2.06 2.06-.94-2.06-.94-.94-2.06-.94 2.06-2.06.94zm-11 1L8.5 8.5l.94-2.06 2.06-.94-2.06-.94L8.5 2.5l-.94 2.06-2.06.94zm10 10l.94 2.06.94-2.06 2.06-.94-2.06-.94-.94-2.06-.94 2.06-2.06.94z\"/><path d=\"M17.41 7.96l-1.37-1.37c-.4-.4-.92-.59-1.43-.59-.52 0-1.04.2-1.43.59L10.3 9.45l-7.72 7.72c-.78.78-.78 2.05 0 2.83L4 21.41c.39.39.9.59 1.41.59.51 0 1.02-.2 1.41-.59l7.78-7.78 2.81-2.81c.8-.78.8-2.07 0-2.86zM5.41 20L4 18.59l7.72-7.72 1.47 1.35L5.41 20z\"/>\n",
              "  </svg>\n",
              "      </button>\n",
              "      \n",
              "  <style>\n",
              "    .colab-df-container {\n",
              "      display:flex;\n",
              "      flex-wrap:wrap;\n",
              "      gap: 12px;\n",
              "    }\n",
              "\n",
              "    .colab-df-convert {\n",
              "      background-color: #E8F0FE;\n",
              "      border: none;\n",
              "      border-radius: 50%;\n",
              "      cursor: pointer;\n",
              "      display: none;\n",
              "      fill: #1967D2;\n",
              "      height: 32px;\n",
              "      padding: 0 0 0 0;\n",
              "      width: 32px;\n",
              "    }\n",
              "\n",
              "    .colab-df-convert:hover {\n",
              "      background-color: #E2EBFA;\n",
              "      box-shadow: 0px 1px 2px rgba(60, 64, 67, 0.3), 0px 1px 3px 1px rgba(60, 64, 67, 0.15);\n",
              "      fill: #174EA6;\n",
              "    }\n",
              "\n",
              "    [theme=dark] .colab-df-convert {\n",
              "      background-color: #3B4455;\n",
              "      fill: #D2E3FC;\n",
              "    }\n",
              "\n",
              "    [theme=dark] .colab-df-convert:hover {\n",
              "      background-color: #434B5C;\n",
              "      box-shadow: 0px 1px 3px 1px rgba(0, 0, 0, 0.15);\n",
              "      filter: drop-shadow(0px 1px 2px rgba(0, 0, 0, 0.3));\n",
              "      fill: #FFFFFF;\n",
              "    }\n",
              "  </style>\n",
              "\n",
              "      <script>\n",
              "        const buttonEl =\n",
              "          document.querySelector('#df-ab363585-50c2-48c0-b818-aca5110e898f button.colab-df-convert');\n",
              "        buttonEl.style.display =\n",
              "          google.colab.kernel.accessAllowed ? 'block' : 'none';\n",
              "\n",
              "        async function convertToInteractive(key) {\n",
              "          const element = document.querySelector('#df-ab363585-50c2-48c0-b818-aca5110e898f');\n",
              "          const dataTable =\n",
              "            await google.colab.kernel.invokeFunction('convertToInteractive',\n",
              "                                                     [key], {});\n",
              "          if (!dataTable) return;\n",
              "\n",
              "          const docLinkHtml = 'Like what you see? Visit the ' +\n",
              "            '<a target=\"_blank\" href=https://colab.research.google.com/notebooks/data_table.ipynb>data table notebook</a>'\n",
              "            + ' to learn more about interactive tables.';\n",
              "          element.innerHTML = '';\n",
              "          dataTable['output_type'] = 'display_data';\n",
              "          await google.colab.output.renderOutput(dataTable, element);\n",
              "          const docLink = document.createElement('div');\n",
              "          docLink.innerHTML = docLinkHtml;\n",
              "          element.appendChild(docLink);\n",
              "        }\n",
              "      </script>\n",
              "    </div>\n",
              "  </div>\n",
              "  "
            ]
          },
          "metadata": {},
          "execution_count": 9
        }
      ]
    },
    {
      "cell_type": "code",
      "metadata": {
        "colab": {
          "base_uri": "https://localhost:8080/",
          "height": 206
        },
        "id": "GES0hxprGnir",
        "outputId": "63948731-ae65-43df-eaae-e647260cb38f"
      },
      "source": [
        "data_train.head()"
      ],
      "execution_count": null,
      "outputs": [
        {
          "output_type": "execute_result",
          "data": {
            "text/plain": [
              "                          Filename ClassName\n",
              "0  /content/train/c6/img_89295.jpg        c6\n",
              "1  /content/train/c6/img_85731.jpg        c6\n",
              "2  /content/train/c6/img_38634.jpg        c6\n",
              "3  /content/train/c6/img_85357.jpg        c6\n",
              "4  /content/train/c6/img_85169.jpg        c6"
            ],
            "text/html": [
              "\n",
              "  <div id=\"df-58b6a77d-d850-45c4-b00c-2e9fdc1d8c71\">\n",
              "    <div class=\"colab-df-container\">\n",
              "      <div>\n",
              "<style scoped>\n",
              "    .dataframe tbody tr th:only-of-type {\n",
              "        vertical-align: middle;\n",
              "    }\n",
              "\n",
              "    .dataframe tbody tr th {\n",
              "        vertical-align: top;\n",
              "    }\n",
              "\n",
              "    .dataframe thead th {\n",
              "        text-align: right;\n",
              "    }\n",
              "</style>\n",
              "<table border=\"1\" class=\"dataframe\">\n",
              "  <thead>\n",
              "    <tr style=\"text-align: right;\">\n",
              "      <th></th>\n",
              "      <th>Filename</th>\n",
              "      <th>ClassName</th>\n",
              "    </tr>\n",
              "  </thead>\n",
              "  <tbody>\n",
              "    <tr>\n",
              "      <th>0</th>\n",
              "      <td>/content/train/c6/img_89295.jpg</td>\n",
              "      <td>c6</td>\n",
              "    </tr>\n",
              "    <tr>\n",
              "      <th>1</th>\n",
              "      <td>/content/train/c6/img_85731.jpg</td>\n",
              "      <td>c6</td>\n",
              "    </tr>\n",
              "    <tr>\n",
              "      <th>2</th>\n",
              "      <td>/content/train/c6/img_38634.jpg</td>\n",
              "      <td>c6</td>\n",
              "    </tr>\n",
              "    <tr>\n",
              "      <th>3</th>\n",
              "      <td>/content/train/c6/img_85357.jpg</td>\n",
              "      <td>c6</td>\n",
              "    </tr>\n",
              "    <tr>\n",
              "      <th>4</th>\n",
              "      <td>/content/train/c6/img_85169.jpg</td>\n",
              "      <td>c6</td>\n",
              "    </tr>\n",
              "  </tbody>\n",
              "</table>\n",
              "</div>\n",
              "      <button class=\"colab-df-convert\" onclick=\"convertToInteractive('df-58b6a77d-d850-45c4-b00c-2e9fdc1d8c71')\"\n",
              "              title=\"Convert this dataframe to an interactive table.\"\n",
              "              style=\"display:none;\">\n",
              "        \n",
              "  <svg xmlns=\"http://www.w3.org/2000/svg\" height=\"24px\"viewBox=\"0 0 24 24\"\n",
              "       width=\"24px\">\n",
              "    <path d=\"M0 0h24v24H0V0z\" fill=\"none\"/>\n",
              "    <path d=\"M18.56 5.44l.94 2.06.94-2.06 2.06-.94-2.06-.94-.94-2.06-.94 2.06-2.06.94zm-11 1L8.5 8.5l.94-2.06 2.06-.94-2.06-.94L8.5 2.5l-.94 2.06-2.06.94zm10 10l.94 2.06.94-2.06 2.06-.94-2.06-.94-.94-2.06-.94 2.06-2.06.94z\"/><path d=\"M17.41 7.96l-1.37-1.37c-.4-.4-.92-.59-1.43-.59-.52 0-1.04.2-1.43.59L10.3 9.45l-7.72 7.72c-.78.78-.78 2.05 0 2.83L4 21.41c.39.39.9.59 1.41.59.51 0 1.02-.2 1.41-.59l7.78-7.78 2.81-2.81c.8-.78.8-2.07 0-2.86zM5.41 20L4 18.59l7.72-7.72 1.47 1.35L5.41 20z\"/>\n",
              "  </svg>\n",
              "      </button>\n",
              "      \n",
              "  <style>\n",
              "    .colab-df-container {\n",
              "      display:flex;\n",
              "      flex-wrap:wrap;\n",
              "      gap: 12px;\n",
              "    }\n",
              "\n",
              "    .colab-df-convert {\n",
              "      background-color: #E8F0FE;\n",
              "      border: none;\n",
              "      border-radius: 50%;\n",
              "      cursor: pointer;\n",
              "      display: none;\n",
              "      fill: #1967D2;\n",
              "      height: 32px;\n",
              "      padding: 0 0 0 0;\n",
              "      width: 32px;\n",
              "    }\n",
              "\n",
              "    .colab-df-convert:hover {\n",
              "      background-color: #E2EBFA;\n",
              "      box-shadow: 0px 1px 2px rgba(60, 64, 67, 0.3), 0px 1px 3px 1px rgba(60, 64, 67, 0.15);\n",
              "      fill: #174EA6;\n",
              "    }\n",
              "\n",
              "    [theme=dark] .colab-df-convert {\n",
              "      background-color: #3B4455;\n",
              "      fill: #D2E3FC;\n",
              "    }\n",
              "\n",
              "    [theme=dark] .colab-df-convert:hover {\n",
              "      background-color: #434B5C;\n",
              "      box-shadow: 0px 1px 3px 1px rgba(0, 0, 0, 0.15);\n",
              "      filter: drop-shadow(0px 1px 2px rgba(0, 0, 0, 0.3));\n",
              "      fill: #FFFFFF;\n",
              "    }\n",
              "  </style>\n",
              "\n",
              "      <script>\n",
              "        const buttonEl =\n",
              "          document.querySelector('#df-58b6a77d-d850-45c4-b00c-2e9fdc1d8c71 button.colab-df-convert');\n",
              "        buttonEl.style.display =\n",
              "          google.colab.kernel.accessAllowed ? 'block' : 'none';\n",
              "\n",
              "        async function convertToInteractive(key) {\n",
              "          const element = document.querySelector('#df-58b6a77d-d850-45c4-b00c-2e9fdc1d8c71');\n",
              "          const dataTable =\n",
              "            await google.colab.kernel.invokeFunction('convertToInteractive',\n",
              "                                                     [key], {});\n",
              "          if (!dataTable) return;\n",
              "\n",
              "          const docLinkHtml = 'Like what you see? Visit the ' +\n",
              "            '<a target=\"_blank\" href=https://colab.research.google.com/notebooks/data_table.ipynb>data table notebook</a>'\n",
              "            + ' to learn more about interactive tables.';\n",
              "          element.innerHTML = '';\n",
              "          dataTable['output_type'] = 'display_data';\n",
              "          await google.colab.output.renderOutput(dataTable, element);\n",
              "          const docLink = document.createElement('div');\n",
              "          docLink.innerHTML = docLinkHtml;\n",
              "          element.appendChild(docLink);\n",
              "        }\n",
              "      </script>\n",
              "    </div>\n",
              "  </div>\n",
              "  "
            ]
          },
          "metadata": {},
          "execution_count": 10
        }
      ]
    },
    {
      "cell_type": "code",
      "metadata": {
        "colab": {
          "base_uri": "https://localhost:8080/",
          "height": 254
        },
        "id": "uuaXN8B2GsBU",
        "outputId": "e88db641-4dd9-4495-f27e-1f0543be7751"
      },
      "source": [
        "nf = data_train['ClassName'].value_counts(sort=False)\n",
        "labels = data_train['ClassName'].value_counts(sort=False).index.tolist()\n",
        "y = np.array(nf)\n",
        "width = 1/1.5\n",
        "N = len(y)\n",
        "x = range(N)\n",
        "\n",
        "fig = plt.figure(figsize=(20,15))\n",
        "ay = fig.add_subplot(211)\n",
        "\n",
        "plt.xticks(x, labels, size=15)\n",
        "plt.yticks(size=15)\n",
        "\n",
        "ay.bar(x, y, width, color=\"green\")\n",
        "\n",
        "plt.title('Bar Chart',size=25)\n",
        "plt.xlabel('classname',size=15)\n",
        "plt.ylabel('Count',size=15)\n",
        "\n",
        "plt.show()"
      ],
      "execution_count": null,
      "outputs": [
        {
          "output_type": "display_data",
          "data": {
            "text/plain": [
              "<Figure size 1440x1080 with 1 Axes>"
            ],
            "image/png": "[encoded data removed]"
          },
          "metadata": {
            "needs_background": "light"
          }
        }
      ]
    },
    {
      "cell_type": "markdown",
      "metadata": {
        "id": "CC_fQ9uoUqaw"
      },
      "source": [
        "#Creating the labels"
      ]
    },
    {
      "cell_type": "code",
      "metadata": {
        "colab": {
          "base_uri": "https://localhost:8080/"
        },
        "id": "qGWIXfLEGzqW",
        "outputId": "be80dfbf-bb42-41ec-9f79-462295f37c26"
      },
      "source": [
        "labels_list = list(set(data_train['ClassName'].values.tolist()))\n",
        "labels_id = {label_name:id for id,label_name in enumerate(labels_list)}\n",
        "print(labels_id)\n",
        "data_train['ClassName'].replace(labels_id,inplace=True)"
      ],
      "execution_count": null,
      "outputs": [
        {
          "output_type": "stream",
          "name": "stdout",
          "text": [
            "{'c5': 0, 'c9': 1, 'c1': 2, 'c4': 3, 'c7': 4, 'c0': 5, 'c3': 6, 'c6': 7, 'c2': 8, 'c8': 9}\n"
          ]
        }
      ]
    },
    {
      "cell_type": "code",
      "metadata": {
        "id": "mpFS3Gv7G1Hq"
      },
      "source": [
        "with open(os.path.join(os.getcwd(),\"pickle_files\",\"labels_list.pkl\"),\"wb\") as handle:\n",
        "    pickle.dump(labels_id,handle)"
      ],
      "execution_count": null,
      "outputs": []
    },
    {
      "cell_type": "code",
      "metadata": {
        "id": "l4hPBFa5G4EB"
      },
      "source": [
        "labels = to_categorical(data_train['ClassName'])"
      ],
      "execution_count": null,
      "outputs": []
    },
    {
      "cell_type": "code",
      "metadata": {
        "colab": {
          "base_uri": "https://localhost:8080/"
        },
        "id": "8Zel9GKhG4jw",
        "outputId": "a3a94788-f762-46a3-ff39-6b40d9d3baa9"
      },
      "source": [
        "labels.shape"
      ],
      "execution_count": null,
      "outputs": [
        {
          "output_type": "execute_result",
          "data": {
            "text/plain": [
              "(22424, 10)"
            ]
          },
          "metadata": {},
          "execution_count": 15
        }
      ]
    },
    {
      "cell_type": "code",
      "metadata": {
        "colab": {
          "base_uri": "https://localhost:8080/"
        },
        "id": "5B-AabqPG7kl",
        "outputId": "bbc09a53-e25b-42d5-ecb0-732ccc293b15"
      },
      "source": [
        "labels"
      ],
      "execution_count": null,
      "outputs": [
        {
          "output_type": "execute_result",
          "data": {
            "text/plain": [
              "array([[0., 0., 0., ..., 1., 0., 0.],\n",
              "       [0., 0., 0., ..., 1., 0., 0.],\n",
              "       [0., 0., 0., ..., 1., 0., 0.],\n",
              "       ...,\n",
              "       [0., 0., 0., ..., 0., 0., 0.],\n",
              "       [0., 0., 0., ..., 0., 0., 0.],\n",
              "       [0., 0., 0., ..., 0., 0., 0.]], dtype=float32)"
            ]
          },
          "metadata": {},
          "execution_count": 16
        }
      ]
    },
    {
      "cell_type": "markdown",
      "metadata": {
        "id": "t15A0vRIUxHY"
      },
      "source": [
        "#Segmentation and preprocessing of data"
      ]
    },
    {
      "cell_type": "code",
      "metadata": {
        "id": "pGX1Z_ttG89Y"
      },
      "source": [
        "from sklearn.model_selection import train_test_split\n",
        "\n",
        "xtrain,xtest,ytrain,ytest = train_test_split(data_train.iloc[:,0],labels,test_size = 0.2,random_state=42)"
      ],
      "execution_count": null,
      "outputs": []
    },
    {
      "cell_type": "code",
      "metadata": {
        "id": "UixK_A2xG-i9"
      },
      "source": [
        "def path_to_tensor(img_path):\n",
        "    img = image.load_img(img_path, target_size=(128, 128))\n",
        "    x = image.img_to_array(img)\n",
        "    return np.expand_dims(x, axis=0)\n",
        "\n",
        "def paths_to_tensor(img_paths):\n",
        "    list_of_tensors = [path_to_tensor(img_path) for img_path in tqdm(img_paths)]\n",
        "    return np.vstack(list_of_tensors)"
      ],
      "execution_count": null,
      "outputs": []
    },
    {
      "cell_type": "code",
      "metadata": {
        "colab": {
          "base_uri": "https://localhost:8080/"
        },
        "id": "6I-Dy5xTG_43",
        "outputId": "56300064-3ca2-4992-8203-698412f3d067"
      },
      "source": [
        "from PIL import ImageFile                            \n",
        "ImageFile.LOAD_TRUNCATED_IMAGES = True                 \n",
        "\n",
        "train_tensors = paths_to_tensor(xtrain).astype('float32')/255 - 0.5"
      ],
      "execution_count": null,
      "outputs": [
        {
          "output_type": "stream",
          "name": "stderr",
          "text": [
            "100%|██████████| 17939/17939 [01:35<00:00, 187.68it/s]\n"
          ]
        }
      ]
    },
    {
      "cell_type": "code",
      "metadata": {
        "colab": {
          "base_uri": "https://localhost:8080/"
        },
        "id": "RNE2U6zkHBGu",
        "outputId": "ded5d370-f4d5-4132-f6ff-1af8091ad428"
      },
      "source": [
        "valid_tensors = paths_to_tensor(xtest).astype('float32')/255 - 0.5"
      ],
      "execution_count": null,
      "outputs": [
        {
          "output_type": "stream",
          "name": "stderr",
          "text": [
            "100%|██████████| 4485/4485 [00:33<00:00, 134.64it/s]\n"
          ]
        }
      ]
    },
    {
      "cell_type": "markdown",
      "metadata": {
        "id": "fAXfR-DZVMPg"
      },
      "source": [
        "#Defining and training the model"
      ]
    },
    {
      "cell_type": "code",
      "metadata": {
        "id": "qBAx5Ni1HC6s"
      },
      "source": [
        "model = Sequential()"
      ],
      "execution_count": null,
      "outputs": []
    },
    {
      "cell_type": "code",
      "metadata": {
        "id": "vTRa5AxvHEOu"
      },
      "source": [
        "model.add(Conv2D(filters=64, kernel_size=2, padding='same', activation='relu', input_shape=(128,128,3), kernel_initializer='glorot_normal'))\n",
        "model.add(MaxPooling2D(pool_size=2))\n",
        "model.add(Conv2D(filters=128, kernel_size=2, padding='same', activation='relu', kernel_initializer='glorot_normal'))\n",
        "model.add(MaxPooling2D(pool_size=2))\n",
        "model.add(Conv2D(filters=256, kernel_size=2, padding='same', activation='relu', kernel_initializer='glorot_normal'))\n",
        "model.add(MaxPooling2D(pool_size=2))\n",
        "model.add(Conv2D(filters=512, kernel_size=2, padding='same', activation='relu', kernel_initializer='glorot_normal'))\n",
        "model.add(MaxPooling2D(pool_size=2))\n",
        "model.add(Dropout(0.5))\n",
        "model.add(Flatten())\n",
        "model.add(Dense(500, activation='relu', kernel_initializer='glorot_normal'))\n",
        "model.add(Dropout(0.5))\n",
        "model.add(Dense(10, activation='softmax', kernel_initializer='glorot_normal'))"
      ],
      "execution_count": null,
      "outputs": []
    },
    {
      "cell_type": "code",
      "metadata": {
        "colab": {
          "base_uri": "https://localhost:8080/",
          "height": 1000
        },
        "id": "xd1v7oL1HFsg",
        "outputId": "a6025d59-cfdc-447c-d7a6-2b31d6272dce"
      },
      "source": [
        "plot_model(model, to_file='model.png', show_shapes=True)"
      ],
      "execution_count": null,
      "outputs": [
        {
          "output_type": "execute_result",
          "data": {
            "text/plain": [
              "<IPython.core.display.Image object>"
            ],
            "image/png": "[encoded data removed]"
          },
          "metadata": {},
          "execution_count": 23
        }
      ]
    },
    {
      "cell_type": "code",
      "metadata": {
        "id": "TJyZBS-RHIA4"
      },
      "source": [
        "model.compile(optimizer='rmsprop', loss='categorical_crossentropy', metrics=['accuracy'])"
      ],
      "execution_count": null,
      "outputs": []
    },
    {
      "cell_type": "code",
      "metadata": {
        "colab": {
          "base_uri": "https://localhost:8080/"
        },
        "id": "1qyD9xCYHJkR",
        "outputId": "0d8c5b07-cea0-47c3-c9ef-07be40769dc4"
      },
      "source": [
        "filepath = os.path.join(MODEL_PATH,\"distracted-{epoch:02d}-{val_accuracy:.2f}.hdf5\")\n",
        "checkpoint = ModelCheckpoint(filepath, monitor='val_accuracy', verbose=1, save_best_only=True, mode='max',period=1)\n",
        "callbacks_list = [checkpoint]"
      ],
      "execution_count": null,
      "outputs": [
        {
          "output_type": "stream",
          "name": "stdout",
          "text": [
            "WARNING:tensorflow:`period` argument is deprecated. Please use `save_freq` to specify the frequency in number of batches seen.\n"
          ]
        }
      ]
    },
    {
      "cell_type": "code",
      "metadata": {
        "id": "g_43IQL6HLZr",
        "colab": {
          "base_uri": "https://localhost:8080/"
        },
        "outputId": "bd73663c-a947-470b-81d7-54b57535fe34"
      },
      "source": [
        "model_history = model.fit(train_tensors,ytrain,validation_data = (valid_tensors, ytest),epochs=20, batch_size=40, shuffle=True,callbacks=callbacks_list)"
      ],
      "execution_count": null,
      "outputs": [
        {
          "output_type": "stream",
          "name": "stdout",
          "text": [
            "Epoch 1/20\n",
            "449/449 [==============================] - ETA: 0s - loss: 0.9728 - accuracy: 0.6755\n",
            "Epoch 1: val_accuracy improved from -inf to 0.94916, saving model to /content/model/self_trained/distracted-01-0.95.hdf5\n",
            "449/449 [==============================] - 84s 156ms/step - loss: 0.9728 - accuracy: 0.6755 - val_loss: 0.1843 - val_accuracy: 0.9492\n",
            "Epoch 2/20\n",
            "449/449 [==============================] - ETA: 0s - loss: 0.1879 - accuracy: 0.9441\n",
            "Epoch 2: val_accuracy improved from 0.94916 to 0.98038, saving model to /content/model/self_trained/distracted-02-0.98.hdf5\n",
            "449/449 [==============================] - 61s 136ms/step - loss: 0.1879 - accuracy: 0.9441 - val_loss: 0.0738 - val_accuracy: 0.9804\n",
            "Epoch 3/20\n",
            "449/449 [==============================] - ETA: 0s - loss: 0.1035 - accuracy: 0.9701\n",
            "Epoch 3: val_accuracy improved from 0.98038 to 0.98551, saving model to /content/model/self_trained/distracted-03-0.99.hdf5\n",
            "449/449 [==============================] - 61s 136ms/step - loss: 0.1035 - accuracy: 0.9701 - val_loss: 0.0631 - val_accuracy: 0.9855\n",
            "Epoch 4/20\n",
            "449/449 [==============================] - ETA: 0s - loss: 0.0702 - accuracy: 0.9798\n",
            "Epoch 4: val_accuracy improved from 0.98551 to 0.98885, saving model to /content/model/self_trained/distracted-04-0.99.hdf5\n",
            "449/449 [==============================] - 61s 135ms/step - loss: 0.0702 - accuracy: 0.9798 - val_loss: 0.0476 - val_accuracy: 0.9889\n",
            "Epoch 5/20\n",
            "449/449 [==============================] - ETA: 0s - loss: 0.0595 - accuracy: 0.9824\n",
            "Epoch 5: val_accuracy did not improve from 0.98885\n",
            "449/449 [==============================] - 60s 134ms/step - loss: 0.0595 - accuracy: 0.9824 - val_loss: 0.0594 - val_accuracy: 0.9866\n",
            "Epoch 6/20\n",
            "449/449 [==============================] - ETA: 0s - loss: 0.0559 - accuracy: 0.9843\n",
            "Epoch 6: val_accuracy improved from 0.98885 to 0.99175, saving model to /content/model/self_trained/distracted-06-0.99.hdf5\n",
            "449/449 [==============================] - 61s 135ms/step - loss: 0.0559 - accuracy: 0.9843 - val_loss: 0.0523 - val_accuracy: 0.9918\n",
            "Epoch 7/20\n",
            "449/449 [==============================] - ETA: 0s - loss: 0.0517 - accuracy: 0.9865\n",
            "Epoch 7: val_accuracy did not improve from 0.99175\n",
            "449/449 [==============================] - 60s 134ms/step - loss: 0.0517 - accuracy: 0.9865 - val_loss: 0.0486 - val_accuracy: 0.9913\n",
            "Epoch 8/20\n",
            "449/449 [==============================] - ETA: 0s - loss: 0.0496 - accuracy: 0.9869\n",
            "Epoch 8: val_accuracy improved from 0.99175 to 0.99331, saving model to /content/model/self_trained/distracted-08-0.99.hdf5\n",
            "449/449 [==============================] - 61s 135ms/step - loss: 0.0496 - accuracy: 0.9869 - val_loss: 0.0341 - val_accuracy: 0.9933\n",
            "Epoch 9/20\n",
            "449/449 [==============================] - ETA: 0s - loss: 0.0418 - accuracy: 0.9887\n",
            "Epoch 9: val_accuracy did not improve from 0.99331\n",
            "449/449 [==============================] - 61s 135ms/step - loss: 0.0418 - accuracy: 0.9887 - val_loss: 0.0341 - val_accuracy: 0.9933\n",
            "Epoch 10/20\n",
            "449/449 [==============================] - ETA: 0s - loss: 0.0469 - accuracy: 0.9879\n",
            "Epoch 10: val_accuracy improved from 0.99331 to 0.99420, saving model to /content/model/self_trained/distracted-10-0.99.hdf5\n",
            "449/449 [==============================] - 61s 136ms/step - loss: 0.0469 - accuracy: 0.9879 - val_loss: 0.0331 - val_accuracy: 0.9942\n",
            "Epoch 11/20\n",
            "449/449 [==============================] - ETA: 0s - loss: 0.0412 - accuracy: 0.9889\n",
            "Epoch 11: val_accuracy did not improve from 0.99420\n",
            "449/449 [==============================] - 60s 135ms/step - loss: 0.0412 - accuracy: 0.9889 - val_loss: 0.0555 - val_accuracy: 0.9924\n",
            "Epoch 12/20\n",
            "449/449 [==============================] - ETA: 0s - loss: 0.0413 - accuracy: 0.9889\n",
            "Epoch 12: val_accuracy did not improve from 0.99420\n",
            "449/449 [==============================] - 60s 135ms/step - loss: 0.0413 - accuracy: 0.9889 - val_loss: 0.0568 - val_accuracy: 0.9931\n",
            "Epoch 13/20\n",
            "449/449 [==============================] - ETA: 0s - loss: 0.0444 - accuracy: 0.9896\n",
            "Epoch 13: val_accuracy did not improve from 0.99420\n",
            "449/449 [==============================] - 60s 134ms/step - loss: 0.0444 - accuracy: 0.9896 - val_loss: 0.0662 - val_accuracy: 0.9933\n",
            "Epoch 14/20\n",
            "449/449 [==============================] - ETA: 0s - loss: 0.0416 - accuracy: 0.9897\n",
            "Epoch 14: val_accuracy did not improve from 0.99420\n",
            "449/449 [==============================] - 60s 134ms/step - loss: 0.0416 - accuracy: 0.9897 - val_loss: 0.0391 - val_accuracy: 0.9940\n",
            "Epoch 15/20\n",
            "449/449 [==============================] - ETA: 0s - loss: 0.0362 - accuracy: 0.9914\n",
            "Epoch 15: val_accuracy did not improve from 0.99420\n",
            "449/449 [==============================] - 61s 135ms/step - loss: 0.0362 - accuracy: 0.9914 - val_loss: 0.0565 - val_accuracy: 0.9931\n",
            "Epoch 16/20\n",
            "449/449 [==============================] - ETA: 0s - loss: 0.0471 - accuracy: 0.9907\n",
            "Epoch 16: val_accuracy did not improve from 0.99420\n",
            "449/449 [==============================] - 61s 135ms/step - loss: 0.0471 - accuracy: 0.9907 - val_loss: 0.0806 - val_accuracy: 0.9926\n",
            "Epoch 17/20\n",
            "449/449 [==============================] - ETA: 0s - loss: 0.0425 - accuracy: 0.9906\n",
            "Epoch 17: val_accuracy did not improve from 0.99420\n",
            "449/449 [==============================] - 60s 134ms/step - loss: 0.0425 - accuracy: 0.9906 - val_loss: 0.0612 - val_accuracy: 0.9933\n",
            "Epoch 18/20\n",
            "449/449 [==============================] - ETA: 0s - loss: 0.0494 - accuracy: 0.9880\n",
            "Epoch 18: val_accuracy improved from 0.99420 to 0.99443, saving model to /content/model/self_trained/distracted-18-0.99.hdf5\n",
            "449/449 [==============================] - 61s 135ms/step - loss: 0.0494 - accuracy: 0.9880 - val_loss: 0.0728 - val_accuracy: 0.9944\n",
            "Epoch 19/20\n",
            "449/449 [==============================] - ETA: 0s - loss: 0.0498 - accuracy: 0.9893\n",
            "Epoch 19: val_accuracy did not improve from 0.99443\n",
            "449/449 [==============================] - 60s 134ms/step - loss: 0.0498 - accuracy: 0.9893 - val_loss: 0.0757 - val_accuracy: 0.9920\n",
            "Epoch 20/20\n",
            "449/449 [==============================] - ETA: 0s - loss: 0.0398 - accuracy: 0.9909\n",
            "Epoch 20: val_accuracy improved from 0.99443 to 0.99532, saving model to /content/model/self_trained/distracted-20-1.00.hdf5\n",
            "449/449 [==============================] - 61s 135ms/step - loss: 0.0398 - accuracy: 0.9909 - val_loss: 0.0442 - val_accuracy: 0.9953\n"
          ]
        }
      ]
    },
    {
      "cell_type": "markdown",
      "metadata": {
        "id": "CUKKIhl2VQr0"
      },
      "source": [
        "#Analysis"
      ]
    },
    {
      "cell_type": "code",
      "metadata": {
        "colab": {
          "base_uri": "https://localhost:8080/",
          "height": 297
        },
        "id": "x4wRynp0HMvB",
        "outputId": "6efb712b-25af-416d-c258-71eae5a992e9"
      },
      "source": [
        "plt.plot(model_history.history['accuracy'], color='b', label=\"Training accuracy\")\n",
        "plt.plot(model_history.history['val_accuracy'], color='r',label=\"Validation accuracy\")\n",
        "\n",
        "legend = plt.legend(loc='lower right', shadow=True)\n",
        "plt.xticks(ticks = [0,1,2,3,4,5,6,7,8,9,10,11,12,13,14,15,16,17,18,19], labels = [1,2,3,4,5,6,7,8,9,10,11,12,13,14,15,16,17,18,19,20])\n",
        "plt.tight_layout()\n",
        "plt.show()"
      ],
      "execution_count": null,
      "outputs": [
        {
          "output_type": "display_data",
          "data": {
            "text/plain": [
              "<Figure size 432x288 with 1 Axes>"
            ],
            "image/png": "[encoded data removed]"
          },
          "metadata": {
            "needs_background": "light"
          }
        }
      ]
    },
    {
      "cell_type": "code",
      "metadata": {
        "colab": {
          "base_uri": "https://localhost:8080/",
          "height": 297
        },
        "id": "Yo3cTcUlHOBT",
        "outputId": "2b8b9aaa-6851-41d6-f3f7-e8be40655c81"
      },
      "source": [
        "plt.plot(model_history.history['loss'], color='b', label=\"Training loss\")\n",
        "plt.plot(model_history.history['val_loss'], color='r',label=\"Validation loss\")\n",
        "\n",
        "legend = plt.legend(loc='best', shadow=True)\n",
        "plt.xticks(ticks = [0,1,2,3,4,5,6,7,8,9,10,11,12,13,14,15,16,17,18,19], labels = [1,2,3,4,5,6,7,8,9,10,11,12,13,14,15,16,17,18,19,20])\n",
        "plt.tight_layout()\n",
        "plt.show()"
      ],
      "execution_count": null,
      "outputs": [
        {
          "output_type": "display_data",
          "data": {
            "text/plain": [
              "<Figure size 432x288 with 1 Axes>"
            ],
            "image/png": "[encoded data removed]"
          },
          "metadata": {
            "needs_background": "light"
          }
        }
      ]
    },
    {
      "cell_type": "markdown",
      "metadata": {
        "id": "FAFovjWUV0CN"
      },
      "source": [
        "#Confusion Matrix"
      ]
    },
    {
      "cell_type": "code",
      "metadata": {
        "id": "RmQgeQGTHPRQ"
      },
      "source": [
        "def print_confusion_matrix(confusion_matrix, class_names, figsize = (10,7), fontsize=14):\n",
        "    df_cm = pd.DataFrame(\n",
        "        confusion_matrix, index=class_names, columns=class_names, \n",
        "    )\n",
        "    fig = plt.figure(figsize=figsize)\n",
        "    try:\n",
        "        heatmap = sns.heatmap(df_cm, annot=True, fmt=\"d\")\n",
        "    except ValueError:\n",
        "        raise ValueError(\"Confusion matrix values must be integers.\")\n",
        "    heatmap.yaxis.set_ticklabels(heatmap.yaxis.get_ticklabels(), rotation=0, ha='right', fontsize=fontsize)\n",
        "    heatmap.xaxis.set_ticklabels(heatmap.xaxis.get_ticklabels(), rotation=45, ha='right', fontsize=fontsize)\n",
        "    plt.ylabel('True label')\n",
        "    plt.xlabel('Predicted label')\n",
        "    fig.savefig(os.path.join(MODEL_PATH,\"confusion_matrix.png\"))\n",
        "    return fig"
      ],
      "execution_count": null,
      "outputs": []
    },
    {
      "cell_type": "code",
      "metadata": {
        "id": "MlxXUxmCHQi-"
      },
      "source": [
        "def print_heatmap(n_labels, n_predictions, class_names):\n",
        "    labels = n_labels \n",
        "    predictions = n_predictions \n",
        "\n",
        "    matrix = confusion_matrix(labels.argmax(axis=1),predictions.argmax(axis=1))\n",
        "    row_sum = np.sum(matrix, axis = 1)\n",
        "    w, h = matrix.shape\n",
        "\n",
        "    c_m = np.zeros((w, h))\n",
        "\n",
        "    for i in range(h):\n",
        "        c_m[i] = matrix[i] * 100 / row_sum[i]\n",
        "\n",
        "    c = c_m.astype(dtype = np.uint8)\n",
        "\n",
        "    \n",
        "    heatmap = print_confusion_matrix(c, class_names, figsize=(18,10), fontsize=20)"
      ],
      "execution_count": null,
      "outputs": []
    },
    {
      "cell_type": "code",
      "metadata": {
        "id": "5MVu27r3HV44"
      },
      "source": [
        "class_names = list()\n",
        "for name,idx in labels_id.items():\n",
        "    class_names.append(name)\n",
        "ypred = model.predict(valid_tensors)"
      ],
      "execution_count": null,
      "outputs": []
    },
    {
      "cell_type": "code",
      "metadata": {
        "colab": {
          "base_uri": "https://localhost:8080/",
          "height": 416
        },
        "id": "CTTjH_3SHX0h",
        "outputId": "c5e06a51-2503-4353-fb38-da9d66eb8182"
      },
      "source": [
        "print_heatmap(ytest,ypred,class_names)"
      ],
      "execution_count": null,
      "outputs": [
        {
          "output_type": "display_data",
          "data": {
            "text/plain": [
              "<Figure size 1296x720 with 2 Axes>"
            ],
            "image/png": "[encoded data removed]"
          },
          "metadata": {
            "needs_background": "light"
          }
        }
      ]
    },
    {
      "cell_type": "markdown",
      "metadata": {
        "id": "pMubnM12V2-j"
      },
      "source": [
        "#Accuracy on test data set"
      ]
    },
    {
      "cell_type": "code",
      "metadata": {
        "id": "j9r2iuhZHZRb"
      },
      "source": [
        "ypred_class = np.argmax(ypred,axis=1)\n",
        "ytest = np.argmax(ytest,axis=1)"
      ],
      "execution_count": null,
      "outputs": []
    },
    {
      "cell_type": "code",
      "metadata": {
        "colab": {
          "base_uri": "https://localhost:8080/"
        },
        "id": "80j6jvOQHbkA",
        "outputId": "3e3b173b-9a65-4236-d5e3-c66d24bdd9d1"
      },
      "source": [
        "accuracy = accuracy_score(ytest,ypred_class)\n",
        "print('Accuracy: %f' % accuracy)\n",
        "precision = precision_score(ytest, ypred_class,average='weighted')\n",
        "print('Precision: %f' % precision)\n",
        "recall = recall_score(ytest,ypred_class,average='weighted')\n",
        "print('Recall: %f' % recall)\n",
        "f1 = f1_score(ytest,ypred_class,average='weighted')\n",
        "print('F1 score: %f' % f1)"
      ],
      "execution_count": null,
      "outputs": [
        {
          "output_type": "stream",
          "name": "stdout",
          "text": [
            "Accuracy: 0.995318\n",
            "Precision: 0.995337\n",
            "Recall: 0.995318\n",
            "F1 score: 0.995317\n"
          ]
        }
      ]
    },
    {
      "cell_type": "markdown",
      "metadata": {
        "id": "3nklov6UV-pv"
      },
      "source": [
        "#Predicting on images using best model"
      ]
    },
    {
      "cell_type": "code",
      "metadata": {
        "colab": {
          "base_uri": "https://localhost:8080/"
        },
        "id": "HFDvAdOfrvHH",
        "outputId": "e0a2b31d-4372-423e-c665-a2ddc4535be0"
      },
      "source": [
        "from keras.models import load_model\n",
        "model = load_model(os.path.join(MODEL_PATH,\"distracted-20-1.00.hdf5\"))\n",
        "model.summary()"
      ],
      "execution_count": null,
      "outputs": [
        {
          "output_type": "stream",
          "name": "stdout",
          "text": [
            "Model: \"sequential\"\n",
            "_________________________________________________________________\n",
            " Layer (type)                Output Shape              Param #   \n",
            "=================================================================\n",
            " conv2d (Conv2D)             (None, 128, 128, 64)      832       \n",
            "                                                                 \n",
            " max_pooling2d (MaxPooling2D  (None, 64, 64, 64)       0         \n",
            " )                                                               \n",
            "                                                                 \n",
            " conv2d_1 (Conv2D)           (None, 64, 64, 128)       32896     \n",
            "                                                                 \n",
            " max_pooling2d_1 (MaxPooling  (None, 32, 32, 128)      0         \n",
            " 2D)                                                             \n",
            "                                                                 \n",
            " conv2d_2 (Conv2D)           (None, 32, 32, 256)       131328    \n",
            "                                                                 \n",
            " max_pooling2d_2 (MaxPooling  (None, 16, 16, 256)      0         \n",
            " 2D)                                                             \n",
            "                                                                 \n",
            " conv2d_3 (Conv2D)           (None, 16, 16, 512)       524800    \n",
            "                                                                 \n",
            " max_pooling2d_3 (MaxPooling  (None, 8, 8, 512)        0         \n",
            " 2D)                                                             \n",
            "                                                                 \n",
            " dropout (Dropout)           (None, 8, 8, 512)         0         \n",
            "                                                                 \n",
            " flatten (Flatten)           (None, 32768)             0         \n",
            "                                                                 \n",
            " dense (Dense)               (None, 500)               16384500  \n",
            "                                                                 \n",
            " dropout_1 (Dropout)         (None, 500)               0         \n",
            "                                                                 \n",
            " dense_1 (Dense)             (None, 10)                5010      \n",
            "                                                                 \n",
            "=================================================================\n",
            "Total params: 17,079,366\n",
            "Trainable params: 17,079,366\n",
            "Non-trainable params: 0\n",
            "_________________________________________________________________\n"
          ]
        }
      ]
    },
    {
      "cell_type": "code",
      "metadata": {
        "colab": {
          "base_uri": "https://localhost:8080/"
        },
        "id": "ZnQpU4BTsMDk",
        "outputId": "0ffa4e65-653b-4e2f-cdd1-b9ab6edcf6bd"
      },
      "source": [
        "data_test = pd.read_csv(os.path.join(CSV_DIR, \"test.csv\"))\n",
        "data_test = data_test[:1000] \n",
        "data_test.info()"
      ],
      "execution_count": null,
      "outputs": [
        {
          "output_type": "stream",
          "name": "stdout",
          "text": [
            "<class 'pandas.core.frame.DataFrame'>\n",
            "RangeIndex: 1000 entries, 0 to 999\n",
            "Data columns (total 2 columns):\n",
            " #   Column     Non-Null Count  Dtype \n",
            "---  ------     --------------  ----- \n",
            " 0   FileName   1000 non-null   object\n",
            " 1   ClassName  1000 non-null   object\n",
            "dtypes: object(2)\n",
            "memory usage: 15.8+ KB\n"
          ]
        }
      ]
    },
    {
      "cell_type": "code",
      "metadata": {
        "colab": {
          "base_uri": "https://localhost:8080/"
        },
        "id": "ZfvRY5tn0YDS",
        "outputId": "c4cf3f01-c2be-4692-e2ac-21c6849ac504"
      },
      "source": [
        "with open(os.path.join(PICKLE_DIR,\"labels_list.pkl\"),\"rb\") as handle:\n",
        "    labels_id = pickle.load(handle)\n",
        "print(labels_id)"
      ],
      "execution_count": null,
      "outputs": [
        {
          "output_type": "stream",
          "name": "stdout",
          "text": [
            "{'c5': 0, 'c9': 1, 'c1': 2, 'c4': 3, 'c7': 4, 'c0': 5, 'c3': 6, 'c6': 7, 'c2': 8, 'c8': 9}\n"
          ]
        }
      ]
    },
    {
      "cell_type": "code",
      "metadata": {
        "colab": {
          "base_uri": "https://localhost:8080/"
        },
        "id": "iVpzEyre0eQq",
        "outputId": "b39b9254-e8bf-4e63-f0d8-170e4c2988f6"
      },
      "source": [
        "def path_to_tensor(img_path):\n",
        "    img = image.load_img(img_path, target_size=(128, 128))\n",
        "    x = image.img_to_array(img)\n",
        "    return np.expand_dims(x, axis=0)\n",
        "\n",
        "def paths_to_tensor(img_paths):\n",
        "    list_of_tensors = [path_to_tensor(img_path) for img_path in tqdm(img_paths)]\n",
        "    return np.vstack(list_of_tensors)\n",
        "\n",
        "ImageFile.LOAD_TRUNCATED_IMAGES = True  \n",
        "test_tensors = paths_to_tensor(data_test.iloc[:,0]).astype('float32')/255 - 0.5"
      ],
      "execution_count": null,
      "outputs": [
        {
          "output_type": "stream",
          "name": "stderr",
          "text": [
            "100%|██████████| 1000/1000 [00:07<00:00, 127.45it/s]\n"
          ]
        }
      ]
    },
    {
      "cell_type": "code",
      "metadata": {
        "colab": {
          "base_uri": "https://localhost:8080/"
        },
        "id": "ob5rNquC0hWh",
        "outputId": "ac462f35-d837-471b-f720-8cea0d5ba31c"
      },
      "source": [
        "ypred_test = model.predict(test_tensors,verbose=1)\n",
        "ypred_class = np.argmax(ypred_test,axis=1)\n",
        "\n",
        "id_labels = dict()\n",
        "for class_name,idx in labels_id.items():\n",
        "    id_labels[idx] = class_name\n",
        "print(id_labels)\n",
        "\n",
        "for i in range(data_test.shape[0]):\n",
        "    data_test.iloc[i,1] = id_labels[ypred_class[i]]"
      ],
      "execution_count": null,
      "outputs": [
        {
          "output_type": "stream",
          "name": "stdout",
          "text": [
            "32/32 [==============================] - 1s 44ms/step\n",
            "{0: 'c5', 1: 'c9', 2: 'c1', 3: 'c4', 4: 'c7', 5: 'c0', 6: 'c3', 7: 'c6', 8: 'c2', 9: 'c8'}\n"
          ]
        }
      ]
    },
    {
      "cell_type": "code",
      "metadata": {
        "id": "VW0pivDMFeMi"
      },
      "source": [
        "class_name = dict()\n",
        "class_name[\"c0\"] = \"SAFE_DRIVING\"\n",
        "class_name[\"c1\"] = \"TEXTING_RIGHT\"\n",
        "class_name[\"c2\"] = \"TALKING_PHONE_RIGHT\"\n",
        "class_name[\"c3\"] = \"TEXTING_LEFT\"\n",
        "class_name[\"c4\"] = \"TALKING_PHONE_LEFT\"\n",
        "class_name[\"c5\"] = \"OPERATING_RADIO\"\n",
        "class_name[\"c6\"] = \"DRINKING\"\n",
        "class_name[\"c7\"] = \"REACHING_BEHIND\"\n",
        "class_name[\"c8\"] = \"HAIR_AND_MAKEUP\"\n",
        "class_name[\"c9\"] = \"TALKING_TO_PASSENGER\"\n",
        "\n",
        "\n",
        "with open(os.path.join(JSON_DIR,'class_name_map.json'),'w') as secret_input:\n",
        "    json.dump(class_name,secret_input,indent=4,sort_keys=True)"
      ],
      "execution_count": null,
      "outputs": []
    },
    {
      "cell_type": "code",
      "metadata": {
        "id": "jPKRXqvDFpV0"
      },
      "source": [
        "with open(os.path.join(JSON_DIR,'class_name_map.json')) as secret_input:\n",
        "    info = json.load(secret_input)\n",
        "\n",
        "\n",
        "for i in range(data_test.shape[0]):\n",
        "    new_name = data_test.iloc[i,0].split(\"/\")[-1].split(\".\")[0]+\"_\"+info[data_test.iloc[i,1]]+\".jpg\"\n",
        "    shutil.copy(data_test.iloc[i,0],os.path.join(PREDICT_DIR,new_name))\n",
        "\n",
        "data_test.to_csv(os.path.join(os.getcwd(),\"csvs\",\"short_test_result.csv\"),index=False)"
      ],
      "execution_count": null,
      "outputs": []
    },
    {
      "cell_type": "code",
      "source": [
        ""
      ],
      "metadata": {
        "id": "8BrXWGh66HqE"
      },
      "execution_count": null,
      "outputs": []
    }
  ]
}